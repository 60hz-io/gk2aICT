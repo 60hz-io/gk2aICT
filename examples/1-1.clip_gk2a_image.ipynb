{
 "cells": [
  {
   "cell_type": "code",
   "execution_count": 3,
   "id": "7aaf53d0-64e2-40bd-8f0e-5e22105a3dd3",
   "metadata": {
    "tags": []
   },
   "outputs": [],
   "source": [
    "import time\n",
    "import glob\n",
    "import pandas as pd\n",
    "import os"
   ]
  },
  {
   "cell_type": "code",
   "execution_count": 4,
   "id": "833ee90f-3d7a-4fc8-aab7-801c64e60c01",
   "metadata": {
    "tags": []
   },
   "outputs": [],
   "source": [
    "os.chdir('/home/wscho/research_etc_proj/gk2aICT/')\n",
    "\n",
    "from src.config import (\n",
    "    LOCAL_GK2A_DIR,\n",
    "    LATLON_DIR\n",
    ")\n",
    "from src.variables import (\n",
    "    VAR2DSKEY,\n",
    "    FD_VAR2FILE,\n",
    ")\n",
    "from src.tools.clip import (\n",
    "    GK2ABaseProcessor,\n",
    "    GK2AFDProcessor,\n",
    "    GK2AEAProcessor,\n",
    "    GK2AKOProcessor,\n",
    "\n",
    ")\n",
    "from src.utils import (\n",
    "    read_gk2a_data\n",
    ")"
   ]
  },
  {
   "cell_type": "code",
   "execution_count": 5,
   "id": "e426c1f2-146c-4687-a42a-12548ab30e44",
   "metadata": {
    "tags": []
   },
   "outputs": [],
   "source": [
    "##config data \n",
    "# 준비 데이터1 : REF_TIME 및 그 전 2개 time에 해당하는 gk2a CLA 데이터(총 3개의 위성 데이터)\n",
    "# 준비 데이터2 : ASOS 및 발전소 GHI 및 각각의 Metadata\n",
    "\n",
    "REF_TIME         = '2022-05-03 12:50'        # 이용할 위성 시간대 timezone = Seoul\n",
    "INTERVAL         =  15                       # 예보 시간 interval(분)\n",
    "FORECAST_START   =  120                      # REF_TIME 기준 예보 시작 시간(분)\n",
    "FORECAST_END     =  240                      # REF_TIME 기준 예보 종료 시간(분)\n",
    "\n",
    "# 구름 이동 산출물 저장 장소\n",
    "GK2A_RAW_PATH    = '/mnt/sdb1/wscho/Jobs/gk2aICT/gk2a_raw.pkl'\n",
    "GK2A_CLIP_PATH    = '/mnt/sdb1/wscho/Jobs/gk2aICT/gk2a_clip.pkl'\n",
    "\n",
    "# 위성데이터 존재 directory\n",
    "BASE_DIR         = '/mnt/sdb1/wscho/data_for_research/ICTgk2a/'\n",
    "\n",
    "#Boundary 설정 옵션\n",
    "BOUNDARY_OPTION  = False\n",
    "BOUNDARY_SIZE = 250\n",
    "BOUNDARY_SIZE *= BOUNDARY_OPTION #Do not change this code for checking Option & size correction\n",
    "\n",
    "#target 지역\n",
    "KO_RANGE = {\n",
    "    'ullatitude': 42.0,\n",
    "    'ullongitude': 124.0,\n",
    "    'lrlatitude': 33.0,\n",
    "    'lrlongitude': 130.0,\n",
    "}"
   ]
  },
  {
   "cell_type": "code",
   "execution_count": 6,
   "id": "3cb9912c-5311-4076-bb4f-6046a2c6c699",
   "metadata": {
    "tags": []
   },
   "outputs": [],
   "source": [
    "#class 선언 시에 위성 resolution 지정 필요\n",
    "s = time.time()\n",
    "ea_gk2a = GK2AEAProcessor(resolution = 2.0)"
   ]
  },
  {
   "cell_type": "markdown",
   "id": "018b50d1-4428-4d7e-9f69-c12ccbef0fa0",
   "metadata": {},
   "source": [
    "##### PREDICT CLOUD AMOUNT ####"
   ]
  },
  {
   "cell_type": "code",
   "execution_count": 7,
   "id": "79793f47-5d0c-4e14-8ddd-8ad071a19daf",
   "metadata": {
    "tags": []
   },
   "outputs": [
    {
     "name": "stdout",
     "output_type": "stream",
     "text": [
      "using data named \n",
      "'/mnt/sdb1/wscho/data_for_research/ICTgk2a/20220503/LE2/cla/gk2a_ami_le2_cla_ea020lc_202205030330.nc' \n",
      "for time '2022-05-03 12:30:00'\n",
      "using data named \n",
      "'/mnt/sdb1/wscho/data_for_research/ICTgk2a/20220503/LE2/cla/gk2a_ami_le2_cla_ea020lc_202205030340.nc' \n",
      "for time '2022-05-03 12:40:00'\n",
      "using data named \n",
      "'/mnt/sdb1/wscho/data_for_research/ICTgk2a/20220503/LE2/cla/gk2a_ami_le2_cla_ea020lc_202205030350.nc' \n",
      "for time '2022-05-03 12:50:00'\n"
     ]
    }
   ],
   "source": [
    "# get gk2a variable\n",
    "var_set = ea_gk2a.get_gk2a_var_set('CLA', 'CA',GK2A_RAW_PATH,BASE_DIR,REF_TIME)"
   ]
  },
  {
   "cell_type": "code",
   "execution_count": 8,
   "id": "f023ec32-dcb0-4491-93c2-717838189d2a",
   "metadata": {
    "tags": []
   },
   "outputs": [],
   "source": [
    "# clip to Korean Peninsula\n",
    "var_clip = [ea_gk2a.cut_with_latlon(cld_x, **KO_RANGE, boundary = BOUNDARY_OPTION) for cld_x in var_set]"
   ]
  },
  {
   "cell_type": "code",
   "execution_count": 9,
   "id": "99e1cd45-3126-4f8e-b61a-cca05bfdec78",
   "metadata": {
    "tags": []
   },
   "outputs": [],
   "source": [
    "var_dic = {\n",
    "            'DOMAIN' : KO_RANGE,\n",
    "            'LATLON' : [ea_gk2a.lat_clip, ea_gk2a.lon_clip],\n",
    "            'BOUNDARY_SIZE' : BOUNDARY_SIZE,\n",
    "            'DATA' : var_clip,\n",
    "}"
   ]
  },
  {
   "cell_type": "code",
   "execution_count": 10,
   "id": "a95a270c-1310-4cf9-a90e-9872085337ad",
   "metadata": {
    "tags": []
   },
   "outputs": [],
   "source": [
    "pd.Series(var_dic).to_pickle(GK2A_CLIP_PATH)"
   ]
  },
  {
   "cell_type": "code",
   "execution_count": 11,
   "id": "cc385af4-6de4-4daf-b04a-9057aa14059d",
   "metadata": {
    "tags": []
   },
   "outputs": [
    {
     "name": "stdout",
     "output_type": "stream",
     "text": [
      "==================================================================\n",
      "Time for loading and clipping gk2a Images : 3.2318971157073975 sec\n",
      "==================================================================\n"
     ]
    }
   ],
   "source": [
    "e = time.time()\n",
    "print('='*22*3)\n",
    "print(f'Time for loading and clipping gk2a Images : {(e-s)} sec')\n",
    "print('='*22*3)"
   ]
  }
 ],
 "metadata": {
  "kernelspec": {
   "display_name": "ICTWork",
   "language": "python",
   "name": "ictwork"
  },
  "language_info": {
   "codemirror_mode": {
    "name": "ipython",
    "version": 3
   },
   "file_extension": ".py",
   "mimetype": "text/x-python",
   "name": "python",
   "nbconvert_exporter": "python",
   "pygments_lexer": "ipython3",
   "version": "3.8.8"
  }
 },
 "nbformat": 4,
 "nbformat_minor": 5
}
