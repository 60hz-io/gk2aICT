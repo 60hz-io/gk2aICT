{
 "cells": [
  {
   "cell_type": "code",
   "execution_count": 26,
   "id": "c11c8061-633b-4c13-85d7-b12e5a3944cf",
   "metadata": {
    "tags": []
   },
   "outputs": [],
   "source": [
    "import os\n",
    "import base64\n",
    "import glob\n",
    "import re\n",
    "import numpy as np\n",
    "import pandas as pd\n",
    "import datetime\n",
    "from scipy import interpolate\n",
    "import cv2\n",
    "from PIL import Image\n",
    "from netCDF4 import Dataset\n",
    "from datetime import datetime\n",
    "import pickle\n",
    "import matplotlib.pyplot as plt\n",
    "import time\n",
    "from matplotlib.ticker import LogFormatter\n",
    "\n",
    "from solarpower.simulator.estimate import AzimuthTiltEstimator\n",
    "from solarpower.preprocessor.preprocess import GFSPreprocessor\n",
    "from solarpower.preprocessor.preprocess import LDAPSPreprocessor\n",
    "\n",
    "from pvlib.location import Location\n",
    "\n",
    "os.chdir('/mnt/sdb1/wscho/research_etc_proj/')\n",
    "from utils_common import get_train_test_data\n",
    "\n",
    "\n",
    "os.chdir('/mnt/sdb1/wscho/Jobs/gk2aICT/src/tools/')\n",
    "from api_gk2a import down_gk2a"
   ]
  },
  {
   "cell_type": "code",
   "execution_count": 2,
   "id": "a7886c1d-9e2b-4cbd-8ae6-e66e1c7efe1c",
   "metadata": {
    "tags": []
   },
   "outputs": [],
   "source": [
    "import joblib"
   ]
  },
  {
   "cell_type": "code",
   "execution_count": 69,
   "id": "9d56bc4c-b8fc-4275-934c-d65b3ce4fe8e",
   "metadata": {
    "tags": []
   },
   "outputs": [],
   "source": [
    "SAT_DIR ='/mnt/sdb1/wscho/Jobs/gk2aICT/'\n",
    "META_DIR ='/mnt/sdb1/wscho/Jobs/gk2aICT/'\n",
    "CS_DIR = '/mnt/sdb1/wscho/Jobs/gk2aICT/'\n",
    "gk2a_output = pd.read_pickle(os.path.join(SAT_DIR, 'gk2a_ci.pkl'))\n",
    "cs_output = pd.read_pickle(os.path.join(CS_DIR, 'cs_ghi.pkl') )"
   ]
  },
  {
   "cell_type": "code",
   "execution_count": 70,
   "id": "de45cc81-3354-4142-9675-c2698070a2fa",
   "metadata": {
    "tags": []
   },
   "outputs": [],
   "source": [
    "cs_output = cs_output.reset_index().merge(gk2a_output, on= ['stn_id']).set_index('dt')"
   ]
  },
  {
   "cell_type": "code",
   "execution_count": 71,
   "id": "eca6fb46-737c-4f9b-9963-bff67740b9e2",
   "metadata": {
    "tags": []
   },
   "outputs": [],
   "source": [
    "df = pd.DataFrame(\n",
    "    {'Start': [\"2022-05-03 14:00:00\"],\n",
    "     'End': [\"2022-05-03 16:00:00\"]})\n",
    "stt_date = pd.to_datetime(df.Start).dt.tz_localize( tz ='Asia/Seoul')\n",
    "edd_date = pd.to_datetime(df.End).dt.tz_localize( tz ='Asia/Seoul')"
   ]
  },
  {
   "cell_type": "code",
   "execution_count": 72,
   "id": "a0f444ec-3af9-4ccb-abb8-e97e43cb0aec",
   "metadata": {
    "tags": []
   },
   "outputs": [],
   "source": [
    "cs_output = cs_output[(cs_output.index >= stt_date[0])&(cs_output.index <= edd_date[0])]"
   ]
  },
  {
   "cell_type": "code",
   "execution_count": null,
   "id": "14f6f5ec-0767-403f-b0a4-e68faa3d5f5c",
   "metadata": {},
   "outputs": [],
   "source": []
  }
 ],
 "metadata": {
  "kernelspec": {
   "display_name": "ICTWork",
   "language": "python",
   "name": "ictwork"
  },
  "language_info": {
   "codemirror_mode": {
    "name": "ipython",
    "version": 3
   },
   "file_extension": ".py",
   "mimetype": "text/x-python",
   "name": "python",
   "nbconvert_exporter": "python",
   "pygments_lexer": "ipython3",
   "version": "3.8.8"
  }
 },
 "nbformat": 4,
 "nbformat_minor": 5
}
