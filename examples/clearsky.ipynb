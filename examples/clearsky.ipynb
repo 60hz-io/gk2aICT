{
 "cells": [
  {
   "cell_type": "code",
   "execution_count": 215,
   "id": "32d98f59-049e-4ee8-8d11-78219f223033",
   "metadata": {},
   "outputs": [],
   "source": [
    "import os\n",
    "import glob\n",
    "import re\n",
    "import cv2\n",
    "import numpy as np\n",
    "import pandas as pd\n",
    "from PIL import Image\n",
    "from netCDF4 import Dataset\n",
    "from pvlib.solarposition import get_solarposition\n"
   ]
  },
  {
   "cell_type": "code",
   "execution_count": null,
   "id": "584ce8cf-46e9-445d-895a-632318a2c6bd",
   "metadata": {},
   "outputs": [],
   "source": []
  },
  {
   "cell_type": "code",
   "execution_count": 5,
   "id": "810a58dd-f826-4b3a-8a31-7ec33f09018d",
   "metadata": {
    "tags": []
   },
   "outputs": [],
   "source": [
    "os.chdir('/home/dhkim/projects/gk2aICT/')\n",
    "from src.config import (\n",
    "    GK2A_DATA_PATH,\n",
    ")\n",
    "from src.variables import (\n",
    "    VAR2DSKEY,\n",
    "    FD_VAR2FILE,\n",
    ")\n",
    "from src.tools.clip import (\n",
    "    GK2AFDProcessor,\n",
    ")\n"
   ]
  },
  {
   "cell_type": "code",
   "execution_count": 6,
   "id": "36f16ce7-f7d6-4030-b8ad-aac602cfc033",
   "metadata": {},
   "outputs": [],
   "source": [
    "MODIS_PATH = '/mnt/sda1/research/data/etc/MCD12C1.A2019001.006.2020220162300.hdf'"
   ]
  },
  {
   "cell_type": "code",
   "execution_count": 3,
   "id": "5a5a27d2-9651-4d10-9084-4bdde08ea5fe",
   "metadata": {},
   "outputs": [],
   "source": [
    "def read_modis_land_cover(path,\n",
    "                          name='Majority_Land_Cover_Type_1',\n",
    "                          print_channels=True):\n",
    "\n",
    "    f = SD(path, SDC.READ)\n",
    "\n",
    "    if print_channels:\n",
    "        data_dict = f.datasets()\n",
    "        for idx, sds in enumerate(data_dict.keys()):\n",
    "            print(idx, sds)\n",
    "\n",
    "    sds_obj = f.select(name)\n",
    "    data = sds_obj.get()\n",
    "\n",
    "    return data\n"
   ]
  },
  {
   "cell_type": "code",
   "execution_count": 149,
   "id": "c79b350e-ce10-4e8d-80f9-ac5b08e2c4f4",
   "metadata": {},
   "outputs": [],
   "source": [
    "ko_range = {\n",
    "    'ullatitude': 43.0,\n",
    "    'ullongitude': 124.0,\n",
    "    'lrlatitude': 33.0,\n",
    "    'lrlongitude': 132.0,\n",
    "}\n",
    "ea_range = {\n",
    "    'ullatitude': 53,\n",
    "    'ullongitude': 77,\n",
    "    'lrlatitude': 11,\n",
    "    'lrlongitude': 150,\n",
    "}\n",
    "etc_range = {\n",
    "    'ullatitude': 38.0,\n",
    "    'ullongitude': 126.0,\n",
    "    'lrlatitude': 37.0,\n",
    "    'lrlongitude': 128.0,\n",
    "}"
   ]
  },
  {
   "cell_type": "code",
   "execution_count": 12,
   "id": "f6d52a2a-d4b4-4b0e-9cf1-cd356818654c",
   "metadata": {},
   "outputs": [],
   "source": [
    "base_path = GK2A_DATA_PATH"
   ]
  },
  {
   "cell_type": "code",
   "execution_count": 23,
   "id": "db049f43-b1fe-4c55-a606-e37b074e507d",
   "metadata": {},
   "outputs": [],
   "source": [
    "flist = glob.glob(os.path.join(base_path, '*swrad*'))\n",
    "flist.sort()"
   ]
  },
  {
   "cell_type": "code",
   "execution_count": 161,
   "id": "dda48d01-0609-404a-8415-6bd3f558e6a7",
   "metadata": {},
   "outputs": [],
   "source": [
    "swrad_vars = ['DSR', 'ASR', 'RSR']"
   ]
  },
  {
   "cell_type": "code",
   "execution_count": 195,
   "id": "568746d9-582d-4203-b3f6-edcb03b2493a",
   "metadata": {},
   "outputs": [],
   "source": [
    "target_range = ko_range"
   ]
  },
  {
   "cell_type": "code",
   "execution_count": 162,
   "id": "a23a8917-4056-44de-b3f6-895c16db5cbd",
   "metadata": {},
   "outputs": [],
   "source": [
    "ii = 0\n",
    "f = flist[ii]"
   ]
  },
  {
   "cell_type": "code",
   "execution_count": 163,
   "id": "b07fd7ed-6866-47c2-ba51-4524a60b1df3",
   "metadata": {},
   "outputs": [],
   "source": [
    "obs_datetime = re.findall(string=f, pattern='[0-9]*.nc')[0][:-3]"
   ]
  },
  {
   "cell_type": "code",
   "execution_count": 201,
   "id": "dbab903c-32fd-4be3-8ded-b7f60a42f18c",
   "metadata": {},
   "outputs": [
    {
     "name": "stderr",
     "output_type": "stream",
     "text": [
      "/home/dhkim/projects/gk2aICT/src/tools/clip.py:67: RuntimeWarning: invalid value encountered in sqrt\n",
      "  Sd = np.sqrt( (42164.0*np.cos(x)*np.cos(y))**2 - (np.cos(y)**2 + 1.006739501*np.sin(y)**2)*1737122264)\n"
     ]
    }
   ],
   "source": [
    "ds = Dataset(os.path.join(base_path, f))\n",
    "if ii == 0:\n",
    "    gk2a = GK2AFDProcessor(gk2a_filename=cla_filename)\n",
    "    i = np.arange(0, ds.dimensions['xdim'].size, dtype='f')\n",
    "    j = np.arange(0, ds.dimensions['ydim'].size, dtype='f')\n",
    "    i, j = np.meshgrid(i, j)\n",
    "    (geos_lat, geos_lon) = gk2a.latlon_from_rowcol(j, i)"
   ]
  },
  {
   "cell_type": "code",
   "execution_count": 202,
   "id": "188a8ed4-2af1-4786-be5c-39a81c0828a3",
   "metadata": {},
   "outputs": [],
   "source": [
    "cur_data = gk2a.cut_with_latlon(np.array(ds[cur_var][:]), **target_range)"
   ]
  },
  {
   "cell_type": "code",
   "execution_count": 203,
   "id": "3d766e4b-7ee8-42d4-a785-cd5ea0242c31",
   "metadata": {},
   "outputs": [],
   "source": [
    "cur_latlons = pd.DataFrame({\n",
    "    'latitude': gk2a.cut_with_latlon(geos_lat, **target_range).flatten(),\n",
    "    'longitude': gk2a.cut_with_latlon(geos_lon, **target_range).flatten(),\n",
    "})"
   ]
  },
  {
   "cell_type": "code",
   "execution_count": 205,
   "id": "63b80876-9361-4b24-abe2-858165599927",
   "metadata": {},
   "outputs": [
    {
     "data": {
      "text/plain": [
       "(128352, 2)"
      ]
     },
     "execution_count": 205,
     "metadata": {},
     "output_type": "execute_result"
    }
   ],
   "source": [
    "cur_latlons.shape"
   ]
  },
  {
   "cell_type": "code",
   "execution_count": 209,
   "id": "3b376e21-bdf4-4aee-bd3f-8131377f00c3",
   "metadata": {},
   "outputs": [
    {
     "data": {
      "text/html": [
       "<div>\n",
       "<style scoped>\n",
       "    .dataframe tbody tr th:only-of-type {\n",
       "        vertical-align: middle;\n",
       "    }\n",
       "\n",
       "    .dataframe tbody tr th {\n",
       "        vertical-align: top;\n",
       "    }\n",
       "\n",
       "    .dataframe thead th {\n",
       "        text-align: right;\n",
       "    }\n",
       "</style>\n",
       "<table border=\"1\" class=\"dataframe\">\n",
       "  <thead>\n",
       "    <tr style=\"text-align: right;\">\n",
       "      <th></th>\n",
       "      <th>2021-11-18 05:50:00</th>\n",
       "    </tr>\n",
       "  </thead>\n",
       "  <tbody>\n",
       "    <tr>\n",
       "      <th>0</th>\n",
       "      <td>70.193400</td>\n",
       "    </tr>\n",
       "    <tr>\n",
       "      <th>1</th>\n",
       "      <td>70.204118</td>\n",
       "    </tr>\n",
       "  </tbody>\n",
       "</table>\n",
       "</div>"
      ],
      "text/plain": [
       "   2021-11-18 05:50:00\n",
       "0            70.193400\n",
       "1            70.204118"
      ]
     },
     "execution_count": 209,
     "metadata": {},
     "output_type": "execute_result"
    }
   ],
   "source": [
    "cur_latlons[:2].apply(\n",
    "    lambda x: get_solarposition(obs_datetime, x.latitude, x.longitude)['zenith'],\n",
    "    axis=1\n",
    ")"
   ]
  },
  {
   "cell_type": "code",
   "execution_count": null,
   "id": "9cf3cab5-d54a-47f3-bbdc-3777ddc27cd5",
   "metadata": {},
   "outputs": [
    {
     "name": "stdout",
     "output_type": "stream",
     "text": [
      "11.2 ms ± 262 µs per loop (mean ± std. dev. of 7 runs, 30 loops each)\n"
     ]
    }
   ],
   "source": [
    "%%timeit -n 30\n",
    "cur_latlons['zenith'] = cur_latlons[:2].apply(\n",
    "    lambda x: get_solarposition(obs_datetime, x.latitude, x.longitude)['zenith'],\n",
    "    axis=1\n",
    ")"
   ]
  },
  {
   "cell_type": "code",
   "execution_count": null,
   "id": "5e3ee9fd-158e-4acd-b9e7-144bfab4c478",
   "metadata": {},
   "outputs": [],
   "source": []
  },
  {
   "cell_type": "code",
   "execution_count": 189,
   "id": "97e26ebf-4c5a-47dd-b6ea-f2991c11bb1f",
   "metadata": {},
   "outputs": [
    {
     "data": {
      "text/html": [
       "<div>\n",
       "<style scoped>\n",
       "    .dataframe tbody tr th:only-of-type {\n",
       "        vertical-align: middle;\n",
       "    }\n",
       "\n",
       "    .dataframe tbody tr th {\n",
       "        vertical-align: top;\n",
       "    }\n",
       "\n",
       "    .dataframe thead th {\n",
       "        text-align: right;\n",
       "    }\n",
       "</style>\n",
       "<table border=\"1\" class=\"dataframe\">\n",
       "  <thead>\n",
       "    <tr style=\"text-align: right;\">\n",
       "      <th></th>\n",
       "      <th>apparent_zenith</th>\n",
       "      <th>zenith</th>\n",
       "      <th>apparent_elevation</th>\n",
       "      <th>elevation</th>\n",
       "      <th>azimuth</th>\n",
       "      <th>equation_of_time</th>\n",
       "    </tr>\n",
       "  </thead>\n",
       "  <tbody>\n",
       "    <tr>\n",
       "      <th>2021-11-18 05:50:00</th>\n",
       "      <td>72.941345</td>\n",
       "      <td>72.995153</td>\n",
       "      <td>17.058655</td>\n",
       "      <td>17.004847</td>\n",
       "      <td>168.448455</td>\n",
       "      <td>14.861135</td>\n",
       "    </tr>\n",
       "  </tbody>\n",
       "</table>\n",
       "</div>"
      ],
      "text/plain": [
       "                     apparent_zenith     zenith  apparent_elevation  \\\n",
       "2021-11-18 05:50:00        72.941345  72.995153           17.058655   \n",
       "\n",
       "                     elevation     azimuth  equation_of_time  \n",
       "2021-11-18 05:50:00  17.004847  168.448455         14.861135  "
      ]
     },
     "execution_count": 189,
     "metadata": {},
     "output_type": "execute_result"
    }
   ],
   "source": [
    "get_solarposition(obs_datetime, cur_latlons.latitude[2], cur_latlons.longitude[2])"
   ]
  },
  {
   "cell_type": "code",
   "execution_count": 171,
   "id": "1f579c19-6b4a-4bd2-8721-0da0d8415011",
   "metadata": {},
   "outputs": [
    {
     "data": {
      "text/html": [
       "<div>\n",
       "<style scoped>\n",
       "    .dataframe tbody tr th:only-of-type {\n",
       "        vertical-align: middle;\n",
       "    }\n",
       "\n",
       "    .dataframe tbody tr th {\n",
       "        vertical-align: top;\n",
       "    }\n",
       "\n",
       "    .dataframe thead th {\n",
       "        text-align: right;\n",
       "    }\n",
       "</style>\n",
       "<table border=\"1\" class=\"dataframe\">\n",
       "  <thead>\n",
       "    <tr style=\"text-align: right;\">\n",
       "      <th></th>\n",
       "      <th>latitude</th>\n",
       "      <th>longitude</th>\n",
       "    </tr>\n",
       "  </thead>\n",
       "  <tbody>\n",
       "    <tr>\n",
       "      <th>0</th>\n",
       "      <td>53.023765</td>\n",
       "      <td>76.929501</td>\n",
       "    </tr>\n",
       "    <tr>\n",
       "      <th>1</th>\n",
       "      <td>53.014949</td>\n",
       "      <td>77.005329</td>\n",
       "    </tr>\n",
       "    <tr>\n",
       "      <th>2</th>\n",
       "      <td>53.006170</td>\n",
       "      <td>77.080893</td>\n",
       "    </tr>\n",
       "    <tr>\n",
       "      <th>3</th>\n",
       "      <td>52.997429</td>\n",
       "      <td>77.156195</td>\n",
       "    </tr>\n",
       "    <tr>\n",
       "      <th>4</th>\n",
       "      <td>52.988724</td>\n",
       "      <td>77.231239</td>\n",
       "    </tr>\n",
       "    <tr>\n",
       "      <th>...</th>\n",
       "      <td>...</td>\n",
       "      <td>...</td>\n",
       "    </tr>\n",
       "    <tr>\n",
       "      <th>4144157</th>\n",
       "      <td>11.017644</td>\n",
       "      <td>149.912593</td>\n",
       "    </tr>\n",
       "    <tr>\n",
       "      <th>4144158</th>\n",
       "      <td>11.017942</td>\n",
       "      <td>149.933277</td>\n",
       "    </tr>\n",
       "    <tr>\n",
       "      <th>4144159</th>\n",
       "      <td>11.018241</td>\n",
       "      <td>149.953964</td>\n",
       "    </tr>\n",
       "    <tr>\n",
       "      <th>4144160</th>\n",
       "      <td>11.018540</td>\n",
       "      <td>149.974657</td>\n",
       "    </tr>\n",
       "    <tr>\n",
       "      <th>4144161</th>\n",
       "      <td>11.018839</td>\n",
       "      <td>149.995355</td>\n",
       "    </tr>\n",
       "  </tbody>\n",
       "</table>\n",
       "<p>4144162 rows × 2 columns</p>\n",
       "</div>"
      ],
      "text/plain": [
       "          latitude   longitude\n",
       "0        53.023765   76.929501\n",
       "1        53.014949   77.005329\n",
       "2        53.006170   77.080893\n",
       "3        52.997429   77.156195\n",
       "4        52.988724   77.231239\n",
       "...            ...         ...\n",
       "4144157  11.017644  149.912593\n",
       "4144158  11.017942  149.933277\n",
       "4144159  11.018241  149.953964\n",
       "4144160  11.018540  149.974657\n",
       "4144161  11.018839  149.995355\n",
       "\n",
       "[4144162 rows x 2 columns]"
      ]
     },
     "execution_count": 171,
     "metadata": {},
     "output_type": "execute_result"
    }
   ],
   "source": [
    "cur_latlons"
   ]
  },
  {
   "cell_type": "code",
   "execution_count": null,
   "id": "8df97497-cf1e-4bea-92f8-bbd7d40b0de6",
   "metadata": {},
   "outputs": [],
   "source": []
  },
  {
   "cell_type": "code",
   "execution_count": 103,
   "id": "275dcc3f-f1fc-4b82-a503-1d41dd27d0f1",
   "metadata": {},
   "outputs": [
    {
     "data": {
      "text/plain": [
       "True"
      ]
     },
     "execution_count": 103,
     "metadata": {},
     "output_type": "execute_result"
    }
   ],
   "source": [
    "a.always_mask"
   ]
  },
  {
   "cell_type": "code",
   "execution_count": 25,
   "id": "15153d17-8387-42e8-91a6-f9147987055f",
   "metadata": {},
   "outputs": [],
   "source": [
    "a = ds[cur_var]"
   ]
  },
  {
   "cell_type": "code",
   "execution_count": null,
   "id": "11d26d97-bb54-462f-bf72-2d8bffb93967",
   "metadata": {},
   "outputs": [],
   "source": [
    "a.obs"
   ]
  },
  {
   "cell_type": "code",
   "execution_count": 14,
   "id": "584767ff-65f9-42ed-8a56-39ec309e338d",
   "metadata": {},
   "outputs": [
    {
     "data": {
      "text/plain": [
       "['/mnt/sda1/research/data/tmp_gk2a/gk2a_ami_le2_swrad_fd020ge_202111180550.nc',\n",
       " '/mnt/sda1/research/data/tmp_gk2a/gk2a_ami_le2_swrad_fd020ge_202111180610.nc',\n",
       " '/mnt/sda1/research/data/tmp_gk2a/gk2a_ami_le2_swrad_fd020ge_202111180620.nc',\n",
       " '/mnt/sda1/research/data/tmp_gk2a/gk2a_ami_le2_swrad_fd020ge_202111180630.nc',\n",
       " '/mnt/sda1/research/data/tmp_gk2a/gk2a_ami_le2_swrad_fd020ge_202111180640.nc',\n",
       " '/mnt/sda1/research/data/tmp_gk2a/gk2a_ami_le2_swrad_fd020ge_202111180650.nc',\n",
       " '/mnt/sda1/research/data/tmp_gk2a/gk2a_ami_le2_swrad_fd020ge_202111180700.nc',\n",
       " '/mnt/sda1/research/data/tmp_gk2a/gk2a_ami_le2_swrad_fd020ge_202111180710.nc',\n",
       " '/mnt/sda1/research/data/tmp_gk2a/gk2a_ami_le2_swrad_fd020ge_202111180720.nc',\n",
       " '/mnt/sda1/research/data/tmp_gk2a/gk2a_ami_le2_swrad_fd020ge_202111180730.nc',\n",
       " '/mnt/sda1/research/data/tmp_gk2a/gk2a_ami_le2_swrad_fd020ge_202111180740.nc',\n",
       " '/mnt/sda1/research/data/tmp_gk2a/gk2a_ami_le2_swrad_fd020ge_202111180750.nc',\n",
       " '/mnt/sda1/research/data/tmp_gk2a/gk2a_ami_le2_swrad_fd020ge_202111180800.nc',\n",
       " '/mnt/sda1/research/data/tmp_gk2a/gk2a_ami_le2_swrad_fd020ge_202111180810.nc',\n",
       " '/mnt/sda1/research/data/tmp_gk2a/gk2a_ami_le2_swrad_fd020ge_202111180820.nc',\n",
       " '/mnt/sda1/research/data/tmp_gk2a/gk2a_ami_le2_swrad_fd020ge_202111190050.nc',\n",
       " '/mnt/sda1/research/data/tmp_gk2a/gk2a_ami_le2_swrad_fd020ge_202111190100.nc',\n",
       " '/mnt/sda1/research/data/tmp_gk2a/gk2a_ami_le2_swrad_fd020ge_202111190110.nc',\n",
       " '/mnt/sda1/research/data/tmp_gk2a/gk2a_ami_le2_swrad_fd020ge_202111190120.nc',\n",
       " '/mnt/sda1/research/data/tmp_gk2a/gk2a_ami_le2_swrad_fd020ge_202111190130.nc',\n",
       " '/mnt/sda1/research/data/tmp_gk2a/gk2a_ami_le2_swrad_fd020ge_202111190140.nc',\n",
       " '/mnt/sda1/research/data/tmp_gk2a/gk2a_ami_le2_swrad_fd020ge_202111190150.nc',\n",
       " '/mnt/sda1/research/data/tmp_gk2a/gk2a_ami_le2_swrad_fd020ge_202111190200.nc',\n",
       " '/mnt/sda1/research/data/tmp_gk2a/gk2a_ami_le2_swrad_fd020ge_202111190210.nc',\n",
       " '/mnt/sda1/research/data/tmp_gk2a/gk2a_ami_le2_swrad_fd020ge_202111190220.nc',\n",
       " '/mnt/sda1/research/data/tmp_gk2a/gk2a_ami_le2_swrad_fd020ge_202111190230.nc',\n",
       " '/mnt/sda1/research/data/tmp_gk2a/gk2a_ami_le2_swrad_fd020ge_202111190240.nc',\n",
       " '/mnt/sda1/research/data/tmp_gk2a/gk2a_ami_le2_swrad_fd020ge_202111190250.nc',\n",
       " '/mnt/sda1/research/data/tmp_gk2a/gk2a_ami_le2_swrad_fd020ge_202111190300.nc',\n",
       " '/mnt/sda1/research/data/tmp_gk2a/gk2a_ami_le2_swrad_fd020ge_202111190310.nc',\n",
       " '/mnt/sda1/research/data/tmp_gk2a/gk2a_ami_le2_swrad_fd020ge_202111190320.nc',\n",
       " '/mnt/sda1/research/data/tmp_gk2a/gk2a_ami_le2_swrad_fd020ge_202111190330.nc',\n",
       " '/mnt/sda1/research/data/tmp_gk2a/gk2a_ami_le2_swrad_fd020ge_202111190340.nc',\n",
       " '/mnt/sda1/research/data/tmp_gk2a/gk2a_ami_le2_swrad_fd020ge_202111190350.nc',\n",
       " '/mnt/sda1/research/data/tmp_gk2a/gk2a_ami_le2_swrad_fd020ge_202111190410.nc',\n",
       " '/mnt/sda1/research/data/tmp_gk2a/gk2a_ami_le2_swrad_fd020ge_202111190420.nc',\n",
       " '/mnt/sda1/research/data/tmp_gk2a/gk2a_ami_le2_swrad_fd020ge_202111190430.nc',\n",
       " '/mnt/sda1/research/data/tmp_gk2a/gk2a_ami_le2_swrad_fd020ge_202111190440.nc',\n",
       " '/mnt/sda1/research/data/tmp_gk2a/gk2a_ami_le2_swrad_fd020ge_202111190450.nc',\n",
       " '/mnt/sda1/research/data/tmp_gk2a/gk2a_ami_le2_swrad_fd020ge_202111190500.nc',\n",
       " '/mnt/sda1/research/data/tmp_gk2a/gk2a_ami_le2_swrad_fd020ge_202111190510.nc',\n",
       " '/mnt/sda1/research/data/tmp_gk2a/gk2a_ami_le2_swrad_fd020ge_202111190520.nc',\n",
       " '/mnt/sda1/research/data/tmp_gk2a/gk2a_ami_le2_swrad_fd020ge_202111190530.nc',\n",
       " '/mnt/sda1/research/data/tmp_gk2a/gk2a_ami_le2_swrad_fd020ge_202111190540.nc',\n",
       " '/mnt/sda1/research/data/tmp_gk2a/gk2a_ami_le2_swrad_fd020ge_202111190550.nc',\n",
       " '/mnt/sda1/research/data/tmp_gk2a/gk2a_ami_le2_swrad_fd020ge_202111190610.nc']"
      ]
     },
     "execution_count": 14,
     "metadata": {},
     "output_type": "execute_result"
    }
   ],
   "source": [
    "flist"
   ]
  },
  {
   "cell_type": "code",
   "execution_count": null,
   "id": "34ad809b-2647-4e61-967f-17836b4b65d9",
   "metadata": {},
   "outputs": [],
   "source": []
  },
  {
   "cell_type": "code",
   "execution_count": null,
   "id": "b8ac2d54-3f1d-430f-bfcf-71a36c42262f",
   "metadata": {},
   "outputs": [],
   "source": []
  },
  {
   "cell_type": "code",
   "execution_count": null,
   "id": "0ca47e2e-57f9-478c-8dc5-040f3dc17b4a",
   "metadata": {},
   "outputs": [],
   "source": []
  },
  {
   "cell_type": "code",
   "execution_count": null,
   "id": "496647e9-cc2e-418d-8808-a9252e22f5e5",
   "metadata": {},
   "outputs": [],
   "source": []
  },
  {
   "cell_type": "code",
   "execution_count": null,
   "id": "9419d69a-f2ab-486d-8469-fb0d393e02ce",
   "metadata": {},
   "outputs": [],
   "source": []
  },
  {
   "cell_type": "code",
   "execution_count": null,
   "id": "fffa7c89-0796-4d60-b964-c2883f109fa0",
   "metadata": {},
   "outputs": [],
   "source": []
  },
  {
   "cell_type": "code",
   "execution_count": null,
   "id": "9c96ef4a-eec0-404a-adc4-d3685bb7cdf3",
   "metadata": {},
   "outputs": [],
   "source": []
  },
  {
   "cell_type": "code",
   "execution_count": null,
   "id": "0d8ffe7a-7827-40a9-ab95-e74d6288ede0",
   "metadata": {},
   "outputs": [],
   "source": []
  },
  {
   "cell_type": "code",
   "execution_count": null,
   "id": "2e50d39d-702c-4578-b61f-8244f558ec5f",
   "metadata": {},
   "outputs": [],
   "source": []
  },
  {
   "cell_type": "code",
   "execution_count": null,
   "id": "50c5b04a-2ef9-4fc2-900e-5efd05a6f8d5",
   "metadata": {},
   "outputs": [],
   "source": []
  },
  {
   "cell_type": "code",
   "execution_count": null,
   "id": "c4c98fae-e68b-4fd2-8349-6182ea932344",
   "metadata": {},
   "outputs": [],
   "source": []
  },
  {
   "cell_type": "code",
   "execution_count": null,
   "id": "ccf9ea2e-6fcd-4e5a-9b28-5ea954d804ff",
   "metadata": {},
   "outputs": [],
   "source": []
  },
  {
   "cell_type": "code",
   "execution_count": 59,
   "id": "372cd809-7396-4742-af08-193e330e2b10",
   "metadata": {},
   "outputs": [],
   "source": [
    "cmap = 'Reds'\n",
    "# target_range = ko_range\n",
    "target_datetime = '202111190450' # set your interesting datetime\n",
    "# target_datetime = '202111190100'"
   ]
  },
  {
   "cell_type": "code",
   "execution_count": 60,
   "id": "f9647b7d-5680-41f6-974e-00c2ef0c2153",
   "metadata": {},
   "outputs": [],
   "source": [
    "cla_filename = f'gk2a_ami_le2_cla_fd020ge_{target_datetime}.nc'"
   ]
  },
  {
   "cell_type": "code",
   "execution_count": 61,
   "id": "b04f2583-7d39-4fdb-aa3b-39023ffcdbfe",
   "metadata": {},
   "outputs": [],
   "source": [
    "ds = Dataset(os.path.join(base_path, cla_filename))\n",
    "cl_proc = GK2AFDProcessor(gk2a_filename=cla_filename)\n",
    "ca = np.array(ds['CA'][:])\n",
    "cf = np.array(ds['CF'][:])\n"
   ]
  },
  {
   "cell_type": "code",
   "execution_count": 64,
   "id": "c2a4ddbb-5a25-4a2d-96b0-025428fbf67f",
   "metadata": {},
   "outputs": [
    {
     "data": {
      "text/plain": [
       "'CT, CLL, CA, CF, CT_DQF, CF_DQF, CA_DQF'"
      ]
     },
     "execution_count": 64,
     "metadata": {},
     "output_type": "execute_result"
    }
   ],
   "source": [
    "ds.names_of_product"
   ]
  },
  {
   "cell_type": "code",
   "execution_count": 68,
   "id": "a818f17f-7eaa-4b3a-8cc5-f1c187b9d006",
   "metadata": {},
   "outputs": [],
   "source": [
    "a = ds['CT']"
   ]
  },
  {
   "cell_type": "code",
   "execution_count": null,
   "id": "593e01bc-2d00-4551-a08f-87a00e2fd1cd",
   "metadata": {},
   "outputs": [],
   "source": [
    "a."
   ]
  }
 ],
 "metadata": {
  "kernelspec": {
   "display_name": "ICTWork",
   "language": "python",
   "name": "ictwork"
  },
  "language_info": {
   "codemirror_mode": {
    "name": "ipython",
    "version": 3
   },
   "file_extension": ".py",
   "mimetype": "text/x-python",
   "name": "python",
   "nbconvert_exporter": "python",
   "pygments_lexer": "ipython3",
   "version": "3.8.8"
  }
 },
 "nbformat": 4,
 "nbformat_minor": 5
}
