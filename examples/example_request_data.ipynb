{
 "cells": [
  {
   "cell_type": "code",
   "execution_count": 16,
   "id": "ef574e47-bbe1-4ffe-b4e9-06929af821cc",
   "metadata": {},
   "outputs": [],
   "source": [
    "import requests\n",
    "import base64\n",
    "import numpy as np"
   ]
  },
  {
   "cell_type": "code",
   "execution_count": 2,
   "id": "8cb13836-01ed-485a-8730-5d0bd43d607b",
   "metadata": {},
   "outputs": [],
   "source": [
    "base_url = '{host}/data'\n",
    "# formatting host to 'server domain name or ip address'"
   ]
  },
  {
   "cell_type": "code",
   "execution_count": 4,
   "id": "5ba4c2af-de19-4658-9e59-bbdd97326114",
   "metadata": {},
   "outputs": [],
   "source": [
    "params = {\n",
    "    'target_data':'cloudmotion',\n",
    "    'target_datetime':'202111181800'\n",
    "    \n",
    "}"
   ]
  },
  {
   "cell_type": "code",
   "execution_count": 34,
   "id": "8fb7402d-318e-41f2-8bbe-c46925ef5309",
   "metadata": {},
   "outputs": [],
   "source": [
    "response = requests.get(base_url,\n",
    "                 params=params)"
   ]
  },
  {
   "cell_type": "code",
   "execution_count": 49,
   "id": "08f40ba8-c5bf-4974-991c-d611123ccc96",
   "metadata": {},
   "outputs": [],
   "source": [
    "data = response.json()['data'].encode('utf-8')"
   ]
  },
  {
   "cell_type": "code",
   "execution_count": 51,
   "id": "d1a9eb33-e9a6-4264-9b0b-8adccee3328b",
   "metadata": {},
   "outputs": [
    {
     "data": {
      "text/plain": [
       "array([[[ 7.3451681e+00,  1.7761550e+00],\n",
       "        [ 6.9652982e+00,  1.6582021e+00],\n",
       "        [ 6.5285497e+00,  1.5270990e+00],\n",
       "        ...,\n",
       "        [ 2.6920828e-01, -3.3804250e-01],\n",
       "        [ 2.9221484e-01, -3.3976880e-01],\n",
       "        [ 3.5996160e-01, -3.0244461e-01]],\n",
       "\n",
       "       [[ 1.3061123e+01,  3.1588161e+00],\n",
       "        [ 1.2655145e+01,  3.0101802e+00],\n",
       "        [ 1.2198761e+01,  2.8479116e+00],\n",
       "        ...,\n",
       "        [ 3.5046196e-01, -4.5033693e-01],\n",
       "        [ 3.5033432e-01, -4.3959764e-01],\n",
       "        [ 3.6721411e-01, -3.6401859e-01]],\n",
       "\n",
       "       [[ 1.9757719e+01,  3.4112828e+00],\n",
       "        [ 1.9508682e+01,  3.3686948e+00],\n",
       "        [ 1.9233995e+01,  3.3199835e+00],\n",
       "        ...,\n",
       "        [ 4.2705989e-01, -5.1021069e-01],\n",
       "        [ 4.0639639e-01, -4.8532552e-01],\n",
       "        [ 3.6798736e-01, -3.7264696e-01]],\n",
       "\n",
       "       ...,\n",
       "\n",
       "       [[-1.4092381e-01,  2.2518590e-01],\n",
       "        [-1.3833784e-01,  2.4593899e-01],\n",
       "        [-1.1886042e-01,  2.6892763e-01],\n",
       "        ...,\n",
       "        [ 3.6981102e-10,  4.3667578e-10],\n",
       "        [ 8.0768094e-11,  1.1791228e-09],\n",
       "        [ 6.7746392e-10,  5.6950761e-10]],\n",
       "\n",
       "       [[-1.6325480e-01,  2.8030339e-01],\n",
       "        [-1.5863469e-01,  3.0274191e-01],\n",
       "        [-1.3811560e-01,  3.3291477e-01],\n",
       "        ...,\n",
       "        [ 3.6981060e-10,  4.3667578e-10],\n",
       "        [ 8.0768274e-11,  1.1791228e-09],\n",
       "        [ 6.7746320e-10,  5.6950761e-10]],\n",
       "\n",
       "       [[-1.8472886e-01,  3.2347298e-01],\n",
       "        [-1.9853911e-01,  3.9399832e-01],\n",
       "        [-1.7462632e-01,  4.3410373e-01],\n",
       "        ...,\n",
       "        [ 3.6981018e-10,  4.3667581e-10],\n",
       "        [ 8.0768454e-11,  1.1791228e-09],\n",
       "        [ 6.7746248e-10,  5.6950761e-10]]], dtype=float32)"
      ]
     },
     "execution_count": 51,
     "metadata": {},
     "output_type": "execute_result"
    }
   ],
   "source": [
    "np.frombuffer(\n",
    "        base64.decodebytes(data), dtype='float32'\n",
    "    ).reshape(1000, 800, 2)"
   ]
  }
 ],
 "metadata": {
  "kernelspec": {
   "display_name": "Python 3",
   "language": "python",
   "name": "python3"
  },
  "language_info": {
   "codemirror_mode": {
    "name": "ipython",
    "version": 3
   },
   "file_extension": ".py",
   "mimetype": "text/x-python",
   "name": "python",
   "nbconvert_exporter": "python",
   "pygments_lexer": "ipython3",
   "version": "3.6.10"
  }
 },
 "nbformat": 4,
 "nbformat_minor": 5
}
