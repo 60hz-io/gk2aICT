{
 "cells": [
  {
   "cell_type": "code",
   "execution_count": 1,
   "id": "ef574e47-bbe1-4ffe-b4e9-06929af821cc",
   "metadata": {},
   "outputs": [],
   "source": [
    "import requests\n",
    "import base64\n",
    "import numpy as np"
   ]
  },
  {
   "cell_type": "code",
   "execution_count": 2,
   "id": "8cb13836-01ed-485a-8730-5d0bd43d607b",
   "metadata": {},
   "outputs": [],
   "source": [
    "host = 'http://apialpha.60hz.io'\n",
    "base_url = '{host}/gk2a'\n",
    "base_url = base_url.format(host=host)\n",
    "# base_url = base_url.format(host='http://api.60hz.io/data')\n",
    "# formatting host to 'server domain name or ip address'\n"
   ]
  },
  {
   "cell_type": "code",
   "execution_count": 31,
   "id": "5ba4c2af-de19-4658-9e59-bbdd97326114",
   "metadata": {},
   "outputs": [],
   "source": [
    "params = {\n",
    "    'variable':'cloudmotion',\n",
    "    'obs_datetime':'202111190200',\n",
    "    # 'download':False,\n",
    "}"
   ]
  },
  {
   "cell_type": "code",
   "execution_count": 34,
   "id": "c5cf117d-ed5d-49ca-bdd3-e4c34d684384",
   "metadata": {},
   "outputs": [],
   "source": [
    "params = {\n",
    "    'variable':'cloudalbedo',\n",
    "    'obs_datetime':'202111180550',\n",
    "    # 'download':False,\n",
    "}"
   ]
  },
  {
   "cell_type": "code",
   "execution_count": 35,
   "id": "5e584a94-8f35-43c8-9bb9-446b76270566",
   "metadata": {},
   "outputs": [],
   "source": [
    "response = requests.get(\n",
    "    url=base_url,\n",
    "    params=params\n",
    ")\n",
    "# data = response.json()['result'].encode('utf-8')"
   ]
  },
  {
   "cell_type": "code",
   "execution_count": 37,
   "id": "09c7def6-21fb-48af-8394-4e3ff33c2f3c",
   "metadata": {},
   "outputs": [],
   "source": []
  },
  {
   "cell_type": "code",
   "execution_count": 38,
   "id": "92eb0a99-dc43-499f-8d96-9511c9a09114",
   "metadata": {},
   "outputs": [],
   "source": [
    "data = response.json()\n",
    "result = np.frombuffer(\n",
    "    base64.decodebytes(data['data'].encode('utf8')),\n",
    "    dtype=data['dtype']\n",
    ").reshape(data['shape'])"
   ]
  },
  {
   "cell_type": "code",
   "execution_count": 39,
   "id": "f2f6ded5-a95f-40c8-b729-ff1c87fe6b70",
   "metadata": {},
   "outputs": [
    {
     "data": {
      "text/plain": [
       "array([[0.        , 0.        , 0.        , ..., 0.43858123, 0.5349279 ,\n",
       "        0.75266093],\n",
       "       [0.        , 0.        , 0.        , ..., 0.54095864, 0.47301608,\n",
       "        0.6668862 ],\n",
       "       [0.        , 0.        , 0.        , ..., 0.4715796 , 0.54255575,\n",
       "        0.70129126],\n",
       "       ...,\n",
       "       [0.        , 0.        , 0.        , ..., 0.        , 0.        ,\n",
       "        0.        ],\n",
       "       [0.        , 0.        , 0.        , ..., 0.        , 0.        ,\n",
       "        0.2726525 ],\n",
       "       [0.        , 0.        , 0.        , ..., 0.        , 0.27700704,\n",
       "        0.30909002]], dtype=float32)"
      ]
     },
     "execution_count": 39,
     "metadata": {},
     "output_type": "execute_result"
    }
   ],
   "source": [
    "result"
   ]
  },
  {
   "cell_type": "code",
   "execution_count": null,
   "id": "1790f3f6-744f-4b1b-b309-05d9bd60bcb2",
   "metadata": {},
   "outputs": [],
   "source": []
  }
 ],
 "metadata": {
  "kernelspec": {
   "display_name": "py38(gk2a)",
   "language": "python",
   "name": "gk2a"
  },
  "language_info": {
   "codemirror_mode": {
    "name": "ipython",
    "version": 3
   },
   "file_extension": ".py",
   "mimetype": "text/x-python",
   "name": "python",
   "nbconvert_exporter": "python",
   "pygments_lexer": "ipython3",
   "version": "3.8.8"
  }
 },
 "nbformat": 4,
 "nbformat_minor": 5
}
